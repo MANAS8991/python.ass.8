{
 "cells": [
  {
   "cell_type": "markdown",
   "id": "57248a8e",
   "metadata": {},
   "source": [
    "# 1. Is the Python Standard Library included with PyInputPlus?"
   ]
  },
  {
   "cell_type": "raw",
   "id": "4ebad207",
   "metadata": {},
   "source": [
    "No, the Python Standard Library is separate from PyInputPlus. The Python Standard Library is a collection of modules and packages that come bundled with Python and provide various functionalities for tasks such as file I/O, networking, data manipulation, and more. PyInputPlus, on the other hand, is a third-party library that is not included in the Python Standard Library. PyInputPlus provides additional functions for taking input from the user with various validation and handling options. To use PyInputPlus, you need to install it separately using tools like pip."
   ]
  },
  {
   "cell_type": "markdown",
   "id": "c1b53711",
   "metadata": {},
   "source": [
    "# 2. Why is PyInputPlus commonly imported with import pyinputplus as pypi?"
   ]
  },
  {
   "cell_type": "raw",
   "id": "60c3a936",
   "metadata": {},
   "source": [
    "PyInputPlus is commonly imported with the name pypi as an alias for convenience and brevity. The import pyinputplus as pypi statement allows you to refer to the PyInputPlus library using the shorter alias pypi throughout your code.\n",
    "\n",
    "Using an alias can make the code more readable and reduce the amount of typing required when accessing functions and classes from the PyInputPlus library. Instead of writing pyinputplus.function_name(), you can simply write pypi.function_name(). This can be especially beneficial if you are using PyInputPlus frequently in your code.\n",
    "\n",
    "The choice of the alias name pypi is not mandatory and can be customized to any valid identifier that suits your preference. The purpose of using an alias is to provide a shorter and more convenient way to refer to the PyInputPlus library."
   ]
  },
  {
   "cell_type": "markdown",
   "id": "b942927c",
   "metadata": {},
   "source": [
    "# 3. How do you distinguish between inputInt() and inputFloat()?"
   ]
  },
  {
   "cell_type": "code",
   "execution_count": null,
   "id": "ad506d20",
   "metadata": {},
   "outputs": [],
   "source": [
    "In PyInputPlus, the inputInt() and inputFloat() functions are used to take user input specifically as an integer or a float, respectively. Here's how you can distinguish between them:\n",
    "\n",
    "inputInt(): This function is used to take user input and ensures that the input is a valid integer. If the user enters a value that cannot be converted to an integer, an error message will be displayed, and the user will be prompted to enter a valid integer. The function will keep asking for input until a valid integer is provided.\n",
    "Example:\n",
    "import pyinputplus as pypi\n",
    "\n",
    "num = pypi.inputInt(\"Enter an integer: \")\n",
    "print(\"You entered:\", num)\n",
    "\n",
    "inputFloat(): This function is used to take user input and ensures that the input is a valid float. If the user enters a value that cannot be converted to a float, an error message will be displayed, and the user will be prompted to enter a valid float. The function will keep asking for input until a valid float is provided.\n",
    "Example:\n",
    "import pyinputplus as pypi\n",
    "\n",
    "num = pypi.inputFloat(\"Enter a float: \")\n",
    "print(\"You entered:\", num)\n",
    " \n",
    "    In summary, inputInt() is used for integers, while inputFloat() is used for floating-point numbers. The functions handle the validation and conversion of user input to the respective numeric types."
   ]
  },
  {
   "cell_type": "markdown",
   "id": "88f5e79a",
   "metadata": {},
   "source": [
    "# 4. Using PyInputPlus, how do you ensure that the user enters a whole number between 0 and 99?"
   ]
  },
  {
   "cell_type": "code",
   "execution_count": null,
   "id": "1ae4d4c4",
   "metadata": {},
   "outputs": [],
   "source": [
    "To ensure that the user enters a whole number between 0 and 99 using PyInputPlus, you can use the inputInt() function along with the min and max parameters. Here's an example:\n",
    "\n",
    "import pyinputplus as pypi\n",
    "\n",
    "num = pypi.inputInt(\"Enter a number between 0 and 99: \", min=0, max=99)\n",
    "print(\"You entered:\", num)\n",
    "\n",
    "In the code above, the inputInt() function prompts the user to enter a number between 0 and 99. The min parameter specifies the minimum allowed value (0) and the max parameter specifies the maximum allowed value (99). If the user enters a number outside this range or a non-integer value, PyInputPlus will display an error message and prompt the user to enter a valid number within the specified range.\n",
    "\n",
    "Using the min and max parameters of inputInt() helps ensure that the user input is restricted to the desired range of whole numbers."
   ]
  },
  {
   "cell_type": "markdown",
   "id": "b8fa71be",
   "metadata": {},
   "source": [
    "# 5. What is transferred to the keyword arguments allowRegexes and blockRegexes?"
   ]
  },
  {
   "cell_type": "code",
   "execution_count": null,
   "id": "2b876d33",
   "metadata": {},
   "outputs": [],
   "source": [
    "In PyInputPlus, the keyword arguments allowRegexes and blockRegexes are used to specify regular expressions that define patterns for allowing or blocking certain user inputs.\n",
    "\n",
    "allowRegexes: This keyword argument accepts a list of regular expressions. If provided, PyInputPlus will only accept user inputs that match any of the regular expressions in the allowRegexes list. Any input that doesn't match any of the specified regular expressions will be rejected.\n",
    "Example:\n",
    "import pyinputplus as pypi\n",
    "\n",
    "name = pypi.inputStr(\"Enter your name: \", allowRegexes=[r'[A-Za-z]+'])\n",
    "print(\"Your name is:\", name)\n",
    " \n",
    "In the above code, the allowRegexes argument is used to specify that the user input should consist of one or more alphabetic characters. Only inputs that match this pattern will be accepted.\n",
    "\n",
    "blockRegexes: This keyword argument accepts a list of regular expressions. If provided, PyInputPlus will reject any user inputs that match any of the regular expressions in the blockRegexes list. Inputs that match any of the specified regular expressions will be considered invalid and the user will be prompted to enter a valid input.\n",
    "Example:\n",
    "import pyinputplus as pypi\n",
    "\n",
    "age = pypi.inputInt(\"Enter your age: \", blockRegexes=[r'[A-Za-z]+'])\n",
    "print(\"Your age is:\", age)\n",
    "\n",
    "In the above code, the blockRegexes argument is used to specify that the user input should not contain any alphabetic characters. If the user enters an input with alphabetic characters, it will be considered invalid and the user will be prompted to enter a valid age."
   ]
  },
  {
   "cell_type": "markdown",
   "id": "44f6fbbd",
   "metadata": {},
   "source": [
    "# 6. If a blank input is entered three times, what does inputStr(limit=3) do?"
   ]
  },
  {
   "cell_type": "code",
   "execution_count": null,
   "id": "d9ce3074",
   "metadata": {},
   "outputs": [],
   "source": [
    "If a blank input is entered three times when using inputStr(limit=3) in PyInputPlus, it will raise the RetryLimitException after the third attempt.\n",
    "\n",
    "The limit parameter in inputStr() specifies the maximum number of attempts allowed for the user to enter a valid input. In this case, with limit=3, the user is given three chances to provide a non-blank input.\n",
    "\n",
    "If the user enters a blank input for the first, second, and third attempt consecutively, PyInputPlus will raise a RetryLimitException after the third attempt, indicating that the maximum number of retries has been reached. This exception can be caught using a try-except block to handle the situation accordingly.\n",
    "\n",
    "Here's an example:\n",
    "import pyinputplus as pypi\n",
    "\n",
    "try:\n",
    "    name = pypi.inputStr(\"Enter your name: \", limit=3)\n",
    "    print(\"Your name is:\", name)\n",
    "except pypi.RetryLimitException:\n",
    "    print(\"Maximum retry limit reached. No valid input provided.\")\n",
    "    \n",
    "In the code above, if the user enters a blank input three times, the RetryLimitException will be raised, and the corresponding message will be printed.\n",
    "\n"
   ]
  },
  {
   "cell_type": "markdown",
   "id": "d4a4f9d5",
   "metadata": {},
   "source": [
    "# 7. If blank input is entered three times, what does inputStr(limit=3, default='hello') do?"
   ]
  },
  {
   "cell_type": "code",
   "execution_count": null,
   "id": "c3e2a915",
   "metadata": {},
   "outputs": [],
   "source": [
    "If a blank input is entered three times when using inputStr(limit=3, default='hello') in PyInputPlus, it will return the default value 'hello' after the third attempt.\n",
    "\n",
    "The limit parameter in inputStr() specifies the maximum number of attempts allowed for the user to enter a valid input. In this case, with limit=3, the user is given three chances to provide a non-blank input.\n",
    "\n",
    "The default parameter is set to 'hello', which means that if the user enters a blank input, PyInputPlus will return the default value instead of raising an exception.\n",
    "\n",
    "Here's an example:\n",
    "import pyinputplus as pypi\n",
    "\n",
    "name = pypi.inputStr(\"Enter your name: \", limit=3, default='hello')\n",
    "print(\"Your name is:\", name)\n",
    "\n",
    "In the code above, if the user enters a blank input three times, the inputStr() function will return the default value 'hello'. If the user enters a non-blank input, that input will be returned instead.\n",
    "\n",
    "So, with inputStr(limit=3, default='hello'), if the user enters a blank input three times, the final result will be 'hello'."
   ]
  }
 ],
 "metadata": {
  "kernelspec": {
   "display_name": "Python 3 (ipykernel)",
   "language": "python",
   "name": "python3"
  },
  "language_info": {
   "codemirror_mode": {
    "name": "ipython",
    "version": 3
   },
   "file_extension": ".py",
   "mimetype": "text/x-python",
   "name": "python",
   "nbconvert_exporter": "python",
   "pygments_lexer": "ipython3",
   "version": "3.9.12"
  }
 },
 "nbformat": 4,
 "nbformat_minor": 5
}
